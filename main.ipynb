{
 "cells": [
  {
   "cell_type": "code",
   "execution_count": 1,
   "metadata": {
    "_cell_guid": "b1076dfc-b9ad-4769-8c92-a6c4dae69d19",
    "_uuid": "8f2839f25d086af736a60e9eeb907d3b93b6e0e5",
    "execution": {
     "iopub.execute_input": "2025-06-30T12:07:52.169282Z",
     "iopub.status.busy": "2025-06-30T12:07:52.169057Z",
     "iopub.status.idle": "2025-06-30T12:08:03.596487Z",
     "shell.execute_reply": "2025-06-30T12:08:03.595892Z",
     "shell.execute_reply.started": "2025-06-30T12:07:52.169265Z"
    },
    "trusted": true
   },
   "outputs": [],
   "source": [
    "import torch\n",
    "import pandas as pd\n",
    "import re\n",
    "from transformers import AutoTokenizer, AutoModelForCausalLM, GenerationConfig"
   ]
  },
  {
   "cell_type": "code",
   "execution_count": null,
   "metadata": {
    "execution": {
     "iopub.execute_input": "2025-06-30T12:08:07.529441Z",
     "iopub.status.busy": "2025-06-30T12:08:07.528671Z",
     "iopub.status.idle": "2025-06-30T12:09:35.766741Z",
     "shell.execute_reply": "2025-06-30T12:09:35.766211Z",
     "shell.execute_reply.started": "2025-06-30T12:08:07.529407Z"
    },
    "trusted": true
   },
   "outputs": [
    {
     "data": {
      "application/vnd.jupyter.widget-view+json": {
       "model_id": "5c63240c3f284f68bce2d3624e6aa35c",
       "version_major": 2,
       "version_minor": 0
      },
      "text/plain": [
       "Fetching 2 files:   0%|          | 0/2 [00:00<?, ?it/s]"
      ]
     },
     "metadata": {},
     "output_type": "display_data"
    },
    {
     "data": {
      "application/vnd.jupyter.widget-view+json": {
       "model_id": "075c612e546b4ac084b91cb66192fb66",
       "version_major": 2,
       "version_minor": 0
      },
      "text/plain": [
       "pytorch_model-00001-of-00002.bin:   2%|1         | 168M/10.1G [00:00<?, ?B/s]"
      ]
     },
     "metadata": {},
     "output_type": "display_data"
    },
    {
     "data": {
      "application/vnd.jupyter.widget-view+json": {
       "model_id": "9a5561e6e3e34f1291c8383f1c7f3e94",
       "version_major": 2,
       "version_minor": 0
      },
      "text/plain": [
       "pytorch_model-00002-of-00002.bin:   5%|4         | 199M/4.05G [00:00<?, ?B/s]"
      ]
     },
     "metadata": {},
     "output_type": "display_data"
    }
   ],
   "source": [
    "device = \"cuda:0\" if torch.cuda.is_available() else \"cpu\"\n",
    "\n",
    "model_name = \"deepseek-ai/deepseek-math-7b-instruct\"\n",
    "tokenizer = AutoTokenizer.from_pretrained(model_name)\n",
    "model = AutoModelForCausalLM.from_pretrained(\n",
    "    model_name, torch_dtype=torch.bfloat16, device_map=\"auto\"\n",
    ")\n",
    "model.generation_config = GenerationConfig.from_pretrained(model_name)\n",
    "model.generation_config.pad_token_id = model.generation_config.eos_token_id"
   ]
  },
  {
   "cell_type": "code",
   "execution_count": 26,
   "metadata": {
    "execution": {
     "iopub.execute_input": "2025-06-30T12:32:45.524759Z",
     "iopub.status.busy": "2025-06-30T12:32:45.524196Z",
     "iopub.status.idle": "2025-06-30T12:32:45.529584Z",
     "shell.execute_reply": "2025-06-30T12:32:45.528904Z",
     "shell.execute_reply.started": "2025-06-30T12:32:45.524737Z"
    },
    "trusted": true
   },
   "outputs": [],
   "source": [
    "def get_answer_from_model(task_text):\n",
    "    sys_prompt = \"\"\"\n",
    "    You are a mathematician. You need to solve the task.\n",
    "    \"\"\"\n",
    "    messages = [\n",
    "        {\n",
    "            \"role\": \"system\",\n",
    "            \"content\": sys_prompt,\n",
    "        },\n",
    "        {\n",
    "            \"role\": \"user\",\n",
    "            \"content\": f\"Answer only the final numeric result, nothing else. Task: {task_text}\",\n",
    "        }\n",
    "    ]\n",
    "    input_tensor = tokenizer.apply_chat_template(\n",
    "        messages, add_generation_prompt=True, return_tensors=\"pt\"\n",
    "    )\n",
    "    outputs = model.generate(input_tensor.to(model.device), max_new_tokens=50)\n",
    "    result = tokenizer.decode(\n",
    "        outputs[0][input_tensor.shape[1] :], skip_special_tokens=True\n",
    "    )\n",
    "\n",
    "    cleaned = re.findall(r\"-?\\d+(?:\\.\\d+)?\", result)\n",
    "    if cleaned:\n",
    "        extracted_answer = cleaned[0]\n",
    "    else:\n",
    "        extracted_answer = result.strip()\n",
    "    return extracted_answer"
   ]
  },
  {
   "cell_type": "code",
   "execution_count": 27,
   "metadata": {
    "execution": {
     "iopub.execute_input": "2025-06-30T12:32:46.570798Z",
     "iopub.status.busy": "2025-06-30T12:32:46.570215Z",
     "iopub.status.idle": "2025-06-30T12:32:56.803074Z",
     "shell.execute_reply": "2025-06-30T12:32:56.802491Z",
     "shell.execute_reply.started": "2025-06-30T12:32:46.57077Z"
    },
    "trusted": true
   },
   "outputs": [],
   "source": [
    "df = pd.read_csv(\"/kaggle/input/aiijc-llm-teacher/train.csv\")\n",
    "\n",
    "submission_rows = []\n",
    "for idx, row in df.iterrows():\n",
    "    task = row[\"task\"]\n",
    "    answer = get_answer_from_model(task)\n",
    "    submission_rows.append({\"task\": task, \"answer\": f\"[{answer}]\"})\n",
    "\n",
    "submission_df = pd.DataFrame(submission_rows)\n",
    "submission_df.to_csv(\"submission.csv\", index=False)"
   ]
  }
 ],
 "metadata": {
  "kaggle": {
   "accelerator": "nvidiaTeslaT4",
   "dataSources": [
    {
     "datasetId": 7886760,
     "sourceId": 12496926,
     "sourceType": "datasetVersion"
    }
   ],
   "dockerImageVersionId": 31089,
   "isGpuEnabled": true,
   "isInternetEnabled": true,
   "language": "python",
   "sourceType": "notebook"
  },
  "kernelspec": {
   "display_name": "Python 3",
   "language": "python",
   "name": "python3"
  },
  "language_info": {
   "codemirror_mode": {
    "name": "ipython",
    "version": 3
   },
   "file_extension": ".py",
   "mimetype": "text/x-python",
   "name": "python",
   "nbconvert_exporter": "python",
   "pygments_lexer": "ipython3",
   "version": "3.13.5"
  }
 },
 "nbformat": 4,
 "nbformat_minor": 4
}
