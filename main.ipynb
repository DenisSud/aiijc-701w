{
 "cells": [
  {
   "cell_type": "code",
   "execution_count": 1,
   "metadata": {
    "_cell_guid": "b1076dfc-b9ad-4769-8c92-a6c4dae69d19",
    "_uuid": "8f2839f25d086af736a60e9eeb907d3b93b6e0e5",
    "execution": {
     "iopub.execute_input": "2025-06-30T12:07:52.169282Z",
     "iopub.status.busy": "2025-06-30T12:07:52.169057Z",
     "iopub.status.idle": "2025-06-30T12:08:03.596487Z",
     "shell.execute_reply": "2025-06-30T12:08:03.595892Z",
     "shell.execute_reply.started": "2025-06-30T12:07:52.169265Z"
    },
    "trusted": true
   },
   "outputs": [],
   "source": [
    "import torch\n",
    "import pandas as pd\n",
    "import re\n",
    "from transformers import AutoTokenizer, AutoModelForCausalLM, GenerationConfig"
   ]
  },
  {
   "cell_type": "code",
   "execution_count": null,
   "metadata": {
    "execution": {
     "iopub.execute_input": "2025-06-30T12:08:07.529441Z",
     "iopub.status.busy": "2025-06-30T12:08:07.528671Z",
     "iopub.status.idle": "2025-06-30T12:09:35.766741Z",
     "shell.execute_reply": "2025-06-30T12:09:35.766211Z",
     "shell.execute_reply.started": "2025-06-30T12:08:07.529407Z"
    },
    "trusted": true
   },
   "outputs": [
    {
     "data": {
      "application/vnd.jupyter.widget-view+json": {
       "model_id": "8179ecc855e44f3f8ee00b42ca2712f9",
       "version_major": 2,
       "version_minor": 0
      },
      "text/plain": [
       "pytorch_model.bin.index.json: 0.00B [00:00, ?B/s]"
      ]
     },
     "metadata": {},
     "output_type": "display_data"
    },
    {
     "name": "stderr",
     "output_type": "stream",
     "text": [
      "c:\\Users\\Pavel\\AppData\\Local\\Programs\\Python\\Python313\\Lib\\site-packages\\huggingface_hub\\file_download.py:143: UserWarning: `huggingface_hub` cache-system uses symlinks by default to efficiently store duplicated files but your machine does not support them in C:\\Users\\Pavel\\.cache\\huggingface\\hub\\models--deepseek-ai--deepseek-math-7b-instruct. Caching files will still work but in a degraded version that might require more space on your disk. This warning can be disabled by setting the `HF_HUB_DISABLE_SYMLINKS_WARNING` environment variable. For more details, see https://huggingface.co/docs/huggingface_hub/how-to-cache#limitations.\n",
      "To support symlinks on Windows, you either need to activate Developer Mode or to run Python as an administrator. In order to activate developer mode, see this article: https://docs.microsoft.com/en-us/windows/apps/get-started/enable-your-device-for-development\n",
      "  warnings.warn(message)\n"
     ]
    },
    {
     "data": {
      "application/vnd.jupyter.widget-view+json": {
       "model_id": "c53234be5b514ef1b07bc725aa4168b6",
       "version_major": 2,
       "version_minor": 0
      },
      "text/plain": [
       "Fetching 2 files:   0%|          | 0/2 [00:00<?, ?it/s]"
      ]
     },
     "metadata": {},
     "output_type": "display_data"
    },
    {
     "data": {
      "application/vnd.jupyter.widget-view+json": {
       "model_id": "ac3667639c5f49f0bf3a8fe58b2ca7f1",
       "version_major": 2,
       "version_minor": 0
      },
      "text/plain": [
       "pytorch_model-00002-of-00002.bin:   0%|          | 0.00/3.85G [00:00<?, ?B/s]"
      ]
     },
     "metadata": {},
     "output_type": "display_data"
    },
    {
     "data": {
      "application/vnd.jupyter.widget-view+json": {
       "model_id": "53bc3a7090ed4e719269dd1da64874ce",
       "version_major": 2,
       "version_minor": 0
      },
      "text/plain": [
       "pytorch_model-00001-of-00002.bin:   0%|          | 0.00/9.97G [00:00<?, ?B/s]"
      ]
     },
     "metadata": {},
     "output_type": "display_data"
    },
    {
     "data": {
      "application/vnd.jupyter.widget-view+json": {
       "model_id": "39372874f1bf493f8d17084a3d67c8ce",
       "version_major": 2,
       "version_minor": 0
      },
      "text/plain": [
       "model.safetensors.index.json: 0.00B [00:00, ?B/s]"
      ]
     },
     "metadata": {},
     "output_type": "display_data"
    }
   ],
   "source": [
    "device = \"cuda:0\" if torch.cuda.is_available() else \"cpu\"\n",
    "\n",
    "model_name = \"deepseek-ai/deepseek-math-7b-instruct\"\n",
    "tokenizer = AutoTokenizer.from_pretrained(model_name)\n",
    "model = AutoModelForCausalLM.from_pretrained(\n",
    "    model_name, torch_dtype=torch.bfloat16, device_map=\"auto\"\n",
    ")\n",
    "model.generation_config = GenerationConfig.from_pretrained(model_name)\n",
    "model.generation_config.pad_token_id = model.generation_config.eos_token_id"
   ]
  },
  {
   "cell_type": "code",
   "execution_count": 26,
   "metadata": {
    "execution": {
     "iopub.execute_input": "2025-06-30T12:32:45.524759Z",
     "iopub.status.busy": "2025-06-30T12:32:45.524196Z",
     "iopub.status.idle": "2025-06-30T12:32:45.529584Z",
     "shell.execute_reply": "2025-06-30T12:32:45.528904Z",
     "shell.execute_reply.started": "2025-06-30T12:32:45.524737Z"
    },
    "trusted": true
   },
   "outputs": [],
   "source": [
    "def get_answer_from_model(task_text):\n",
    "    sys_prompt = \"\"\"\n",
    "    You are a mathematician. You need to solve the task.\n",
    "    \"\"\"\n",
    "    messages = [\n",
    "        {\n",
    "            \"role\": \"system\",\n",
    "            \"content\": sys_prompt,\n",
    "        },\n",
    "        {\n",
    "            \"role\": \"user\",\n",
    "            \"content\": f\"Answer only the final numeric result, nothing else. Task: {task_text}\",\n",
    "        }\n",
    "    ]\n",
    "    input_tensor = tokenizer.apply_chat_template(\n",
    "        messages, add_generation_prompt=True, return_tensors=\"pt\"\n",
    "    )\n",
    "    outputs = model.generate(input_tensor.to(model.device), max_new_tokens=50)\n",
    "    result = tokenizer.decode(\n",
    "        outputs[0][input_tensor.shape[1] :], skip_special_tokens=True\n",
    "    )\n",
    "\n",
    "    cleaned = re.findall(r\"-?\\d+(?:\\.\\d+)?\", result)\n",
    "    if cleaned:\n",
    "        extracted_answer = cleaned[0]\n",
    "    else:\n",
    "        extracted_answer = result.strip()\n",
    "    return extracted_answer"
   ]
  },
  {
   "cell_type": "code",
   "execution_count": 27,
   "metadata": {
    "execution": {
     "iopub.execute_input": "2025-06-30T12:32:46.570798Z",
     "iopub.status.busy": "2025-06-30T12:32:46.570215Z",
     "iopub.status.idle": "2025-06-30T12:32:56.803074Z",
     "shell.execute_reply": "2025-06-30T12:32:56.802491Z",
     "shell.execute_reply.started": "2025-06-30T12:32:46.57077Z"
    },
    "trusted": true
   },
   "outputs": [],
   "source": [
    "df = pd.read_csv(\"/kaggle/input/aiijc-llm-teacher/train.csv\")\n",
    "\n",
    "submission_rows = []\n",
    "for idx, row in df.iterrows():\n",
    "    task = row[\"task\"]\n",
    "    answer = get_answer_from_model(task)\n",
    "    submission_rows.append({\"task\": task, \"answer\": f\"[{answer}]\"})\n",
    "\n",
    "submission_df = pd.DataFrame(submission_rows)\n",
    "submission_df.to_csv(\"submission.csv\", index=False)"
   ]
  }
 ],
 "metadata": {
  "kaggle": {
   "accelerator": "nvidiaTeslaT4",
   "dataSources": [
    {
     "datasetId": 7886760,
     "sourceId": 12496926,
     "sourceType": "datasetVersion"
    }
   ],
   "dockerImageVersionId": 31089,
   "isGpuEnabled": true,
   "isInternetEnabled": true,
   "language": "python",
   "sourceType": "notebook"
  },
  "kernelspec": {
   "display_name": "Python 3",
   "language": "python",
   "name": "python3"
  },
  "language_info": {
   "codemirror_mode": {
    "name": "ipython",
    "version": 3
   },
   "file_extension": ".py",
   "mimetype": "text/x-python",
   "name": "python",
   "nbconvert_exporter": "python",
   "pygments_lexer": "ipython3",
   "version": "3.13.5"
  }
 },
 "nbformat": 4,
 "nbformat_minor": 4
}
